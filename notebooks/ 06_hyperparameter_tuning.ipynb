{
 "cells": [
  {
   "cell_type": "code",
   "execution_count": 8,
   "id": "998e05d8-858f-453e-b57d-a996179f26c3",
   "metadata": {},
   "outputs": [],
   "source": [
    "import pandas as pd\n",
    "import os\n",
    "import joblib\n",
    "from sklearn.model_selection import train_test_split, GridSearchCV, RandomizedSearchCV\n",
    "from sklearn.preprocessing import StandardScaler\n",
    "from sklearn.linear_model import LogisticRegression\n",
    "from sklearn.tree import DecisionTreeClassifier\n",
    "from sklearn.ensemble import RandomForestClassifier\n",
    "from sklearn.svm import SVC\n",
    "from sklearn.metrics import accuracy_score, classification_report"
   ]
  },
  {
   "cell_type": "code",
   "execution_count": 9,
   "id": "b641e255-e117-49d2-8060-db95edfaa99d",
   "metadata": {},
   "outputs": [],
   "source": [
    "df = pd.read_csv(\"../data/reduced_heart.csv\")"
   ]
  },
  {
   "cell_type": "code",
   "execution_count": 10,
   "id": "49b37768-d43d-460d-9404-c931f3801818",
   "metadata": {},
   "outputs": [],
   "source": [
    "X = df.drop(columns=[\"num\"])\n",
    "y = df[\"num\"]\n",
    "if y.nunique() > 2:\n",
    "    y = (y > 0).astype(int)\n",
    "X_train, X_test, y_train, y_test = train_test_split(\n",
    "    X, y, test_size=0.2, random_state=42, stratify=y\n",
    ")\n",
    "scaler = StandardScaler()\n",
    "X_train = scaler.fit_transform(X_train)\n",
    "X_test = scaler.transform(X_test)"
   ]
  },
  {
   "cell_type": "code",
   "execution_count": 11,
   "id": "924b35c5-f959-43dd-a557-abade80fe300",
   "metadata": {},
   "outputs": [],
   "source": [
    "param_grids = {\n",
    "    \"LogisticRegression\": {\n",
    "        \"model\": LogisticRegression(max_iter=2000, random_state=42),\n",
    "        \"params\": {\n",
    "            \"C\": [0.01, 0.1, 1, 10, 100],\n",
    "            \"penalty\": [\"l2\"],\n",
    "            \"solver\": [\"lbfgs\", \"liblinear\"]\n",
    "        }\n",
    "    },\n",
    "    \"DecisionTree\": {\n",
    "        \"model\": DecisionTreeClassifier(random_state=42),\n",
    "        \"params\": {\n",
    "            \"max_depth\": [None, 3, 5, 10],\n",
    "            \"min_samples_split\": [2, 5, 10],\n",
    "            \"min_samples_leaf\": [1, 2, 4]\n",
    "        }\n",
    "    },\n",
    "    \"RandomForest\": {\n",
    "        \"model\": RandomForestClassifier(random_state=42),\n",
    "        \"params\": {\n",
    "            \"n_estimators\": [50, 100, 200, 300],\n",
    "            \"max_depth\": [None, 5, 10, 20],\n",
    "            \"min_samples_split\": [2, 5, 10],\n",
    "            \"min_samples_leaf\": [1, 2, 4]\n",
    "        }\n",
    "    },\n",
    "    \"SVM\": {\n",
    "        \"model\": SVC(probability=True, random_state=42),\n",
    "        \"params\": {\n",
    "            \"C\": [0.1, 1, 10, 100],\n",
    "            \"kernel\": [\"linear\", \"rbf\", \"poly\"],\n",
    "            \"gamma\": [\"scale\", \"auto\"]\n",
    "        }\n",
    "    }\n",
    "}"
   ]
  },
  {
   "cell_type": "code",
   "execution_count": 12,
   "id": "6999df35-d8ff-42b3-a6c4-d29b10d1aacd",
   "metadata": {},
   "outputs": [
    {
     "name": "stdout",
     "output_type": "stream",
     "text": [
      "\n",
      "🔍 Hyperparameter Tuning for LogisticRegression ...\n",
      "GridSearchCV - Best Params: {'C': 0.01, 'penalty': 'l2', 'solver': 'lbfgs'}\n",
      "GridSearchCV - CV Score: 0.843\n",
      "\n",
      "🔍 Hyperparameter Tuning for DecisionTree ...\n",
      "GridSearchCV - Best Params: {'max_depth': 3, 'min_samples_leaf': 1, 'min_samples_split': 2}\n",
      "GridSearchCV - CV Score: 0.797\n",
      "\n",
      "🔍 Hyperparameter Tuning for RandomForest ...\n",
      "GridSearchCV - Best Params: {'max_depth': 5, 'min_samples_leaf': 4, 'min_samples_split': 2, 'n_estimators': 300}\n",
      "GridSearchCV - CV Score: 0.856\n",
      "\n",
      "🔍 Hyperparameter Tuning for SVM ...\n",
      "GridSearchCV - Best Params: {'C': 0.1, 'gamma': 'scale', 'kernel': 'rbf'}\n",
      "GridSearchCV - CV Score: 0.835\n"
     ]
    }
   ],
   "source": [
    "tuned_results = {}\n",
    "best_models = {}\n",
    "\n",
    "for name, mp in param_grids.items():\n",
    "    print(f\"\\n🔍 Hyperparameter Tuning for {name} ...\")\n",
    "\n",
    "    # GridSearchCV\n",
    "    grid = GridSearchCV(\n",
    "        mp[\"model\"],\n",
    "        mp[\"params\"],\n",
    "        cv=5,\n",
    "        scoring=\"accuracy\",\n",
    "        n_jobs=-1\n",
    "    )\n",
    "    grid.fit(X_train, y_train)\n",
    "    print(f\"GridSearchCV - Best Params: {grid.best_params_}\")\n",
    "    print(f\"GridSearchCV - CV Score: {grid.best_score_:.3f}\")"
   ]
  },
  {
   "cell_type": "code",
   "execution_count": 14,
   "id": "cede66c0-c4f2-47eb-a994-b7b2a09db1ff",
   "metadata": {},
   "outputs": [
    {
     "name": "stdout",
     "output_type": "stream",
     "text": [
      "➡️ Test Accuracy (SVM): 0.883\n",
      "Classification Report:\n",
      "               precision    recall  f1-score   support\n",
      "\n",
      "           0       0.86      0.94      0.90        32\n",
      "           1       0.92      0.82      0.87        28\n",
      "\n",
      "    accuracy                           0.88        60\n",
      "   macro avg       0.89      0.88      0.88        60\n",
      "weighted avg       0.89      0.88      0.88        60\n",
      "\n"
     ]
    }
   ],
   "source": [
    " best_model = grid.best_estimator_\n",
    " y_pred = best_model.predict(X_test)\n",
    " acc = accuracy_score(y_test, y_pred)\n",
    " print(f\"➡️ Test Accuracy ({name}): {acc:.3f}\")\n",
    " print(\"Classification Report:\\n\", classification_report(y_test, y_pred, zero_division=0))\n",
    "\n",
    " tuned_results[name] = acc\n",
    " best_models[name] = best_model\n"
   ]
  },
  {
   "cell_type": "code",
   "execution_count": 20,
   "id": "4da4f400-44a6-4728-bc3c-7b0659d56c21",
   "metadata": {},
   "outputs": [
    {
     "name": "stdout",
     "output_type": "stream",
     "text": [
      "\n",
      "✅ Best tuned RandomForest model saved to models/best_model_tuned.pkl\n"
     ]
    }
   ],
   "source": [
    "os.makedirs(\"models\", exist_ok=True)\n",
    "final_model = best_models[\"SVM\"]\n",
    "joblib.dump(final_model, \"../models/best_model_tuned.pkl\")\n",
    "print(\"\\n✅ Best tuned RandomForest model saved to models/best_model_tuned.pkl\")\n"
   ]
  },
  {
   "cell_type": "code",
   "execution_count": null,
   "id": "f5a2d59f-3da9-4921-84e1-70fd7847d12f",
   "metadata": {},
   "outputs": [],
   "source": []
  }
 ],
 "metadata": {
  "kernelspec": {
   "display_name": "Python 3 (ipykernel)",
   "language": "python",
   "name": "python3"
  },
  "language_info": {
   "codemirror_mode": {
    "name": "ipython",
    "version": 3
   },
   "file_extension": ".py",
   "mimetype": "text/x-python",
   "name": "python",
   "nbconvert_exporter": "python",
   "pygments_lexer": "ipython3",
   "version": "3.13.7"
  }
 },
 "nbformat": 4,
 "nbformat_minor": 5
}
